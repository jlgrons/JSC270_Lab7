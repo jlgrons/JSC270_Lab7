{
  "nbformat": 4,
  "nbformat_minor": 0,
  "metadata": {
    "colab": {
      "name": "Lab7_Twitter_API.ipynb",
      "provenance": [],
      "collapsed_sections": [],
      "include_colab_link": true
    },
    "kernelspec": {
      "name": "python3",
      "display_name": "Python 3"
    }
  },
  "cells": [
    {
      "cell_type": "markdown",
      "metadata": {
        "id": "view-in-github",
        "colab_type": "text"
      },
      "source": [
        "<a href=\"https://colab.research.google.com/github/jlgrons/JSC270_Lab7/blob/main/Lab7_Twitter_API.ipynb\" target=\"_parent\"><img src=\"https://colab.research.google.com/assets/colab-badge.svg\" alt=\"Open In Colab\"/></a>"
      ]
    },
    {
      "cell_type": "code",
      "metadata": {
        "id": "NKwp0jp7ZK4o"
      },
      "source": [
        "api_key = ''\n",
        "\n",
        "api_secret_key = ''\n",
        "\n",
        "access_key =  ''\n",
        "\n",
        "access_secret = ''"
      ],
      "execution_count": null,
      "outputs": []
    },
    {
      "cell_type": "markdown",
      "metadata": {
        "id": "bDwgzjOolai8"
      },
      "source": [
        "# JSC270 Lab : The Twitter API\n",
        "\n",
        "__Note: Since it takes a day or two for you to obtain API credentials from Twitter, you will not be able to follow along in this notebook unless you have signed up for an account.  This part of the lab will be a demo.__\n",
        "\n",
        "- I ask that you __please do not run any cells of this notebook until you have obtained your own credentials, and substituted them above__. I ask this because Twitter has systems in place to identify bots based on API queries. If we all suddenly used my credentials, it would be potentially an anomalous 25x increase in the query volume on my account (it may appear as though I'd been hacked). \n",
        "\n",
        "- I don't use twitter personally, but if you do, and you're using your personal account, you'll want to keep the information in the first cell secret. One way of doing this would be to store the keys in a local csv file, then read them in using `pd.read_csv` instead of declaring them openly.\n",
        "\n",
        "- To run this notebook, please make sure you have done the following:"
      ]
    },
    {
      "cell_type": "markdown",
      "metadata": {
        "id": "z9w499F6oFN-"
      },
      "source": [
        "1. You'll need to sign up for a Twitter Account. Even if you already use Twitter, I recommend creating a separate account for this project.\n",
        "\n",
        "2. You'll need to apply to be a Twitter developer. To do so, visit https://developer.twitter.com/en/apps and click the `Apply` button in the top right corner. You can choose the `Academic` -> `Student` option. The default is to sign up for a team account. This allows multiple users (ie. your and your project partner).  You can answer No to the \"Will you make Twitter content or derived information available to a government entity or a government affiliated entity?\".\n",
        "\n",
        "3. You will be sent an email to confirm your account. Click the link in the email to confirm. \n",
        "\n",
        "4. Next, you will need to create a new app. Going back to the site listed above (assuming you're signed in to your account), you can create a new application on the developer dashboard (select `create project`). When you do this, Twitter will automatically generate 3 key pieces of \n",
        "information for your project:\n",
        "\n",
        "        i) A Consumer API Key\n",
        "        ii) A Consumer API Secret Key\n",
        "        iii) A Bearer Token\n",
        "\n",
        "\n",
        "Record this information somewhere secure. We'll use it to connect to Twitter through `tweepy`. Note that the developer dashboard will only show you these 3 pieces of information once. For security, if you ever want to view them again, Twitter will generate new ones for you.  I recommend a csv file that includes this information and the info you'll get in step 7.\n",
        "\n",
        "5. After completing these steps, you have Essential Acess.  You will need to apply for Elevated Access by clicking the `View products' link in your dashboard.  See the image in the cell below.\n",
        "\n",
        "6.  Click `Apply for Elevated`.  You will then be directed to an application.  The application will ask questions about the nature of your research project. Be honest and thorough (ie. you are completing a natural language processing project for a data science course). Note that you will not be required to `display aggregate twitter data outside of twitter`, so you can select NO for this option. After agreeing to terms and conditions, you'll submit your application. After verifying your email (check your inbox), Twitter typically takes a day or two to review and approve your developer status.\n",
        "\n",
        "\n",
        "7. You can obtain the Access Token and Secret under the `Keys and Tokens` tab in the app that you created.  Again, make sure to save these somewhere!  I recommend a csv file that includes this information and the info from the previous step.  "
      ]
    },
    {
      "cell_type": "markdown",
      "metadata": {
        "id": "2ekNGvpanNrQ"
      },
      "source": [
        "__When the above steps are done, you're ready to begin using python__. \n",
        "\n",
        "## What is the Twitter API?\n",
        "\n",
        "- Twitter's Application Program Interface (API) allows approved developers to interact with twitter's user and content databases. It allows you to perform certain large-scale operations via computer, such as:\n",
        "    - Posting tweets\n",
        "    - Retweeting existing tweets\n",
        "    - Extracting user information\n",
        "    - Extracting tweets themselves\n",
        "    - Computing User-related statistics\n",
        "    - And more...\n",
        "\n",
        "For our purposes, all we care about is extracting the tweets, and possibly some other related features. \n",
        "\n",
        "## What is Tweepy?\n",
        "\n",
        "The python wrapper for Twitter's API is called `tweepy`. The standard(free) version allows you to extract tweets from up to 7 days ago, with a limit of 18,000 tweets in a 15 minute window. We can import this like any other python library. Below this is the code to initiate access.\n"
      ]
    },
    {
      "cell_type": "code",
      "metadata": {
        "id": "2dvrULQUqAxm"
      },
      "source": [
        "import tweepy as tw\n",
        "\n",
        "# Use credentials to authorize access\n",
        "auth = tw.OAuthHandler(api_key, api_secret_key)\n",
        "auth.set_access_token(access_key, access_secret)\n",
        "api = tw.API(auth, wait_on_rate_limit=True)"
      ],
      "execution_count": null,
      "outputs": []
    },
    {
      "cell_type": "markdown",
      "metadata": {
        "id": "Yi5_vOq_q3QK"
      },
      "source": [
        "- The api allows you to specify certain search parameters like the following:"
      ]
    },
    {
      "cell_type": "code",
      "metadata": {
        "id": "zZgmYLetq-KV"
      },
      "source": [
        "search_words = '#covid'\n",
        "date_since = \"2022-03-04\"\n",
        "\n",
        "#Collect tweets (here, I get only 20)\n",
        "tweets = tw.Cursor(api.search,\n",
        "              q=search_words,\n",
        "              lang=\"en\",\n",
        "              since=date_since).items(20)"
      ],
      "execution_count": null,
      "outputs": []
    },
    {
      "cell_type": "code",
      "source": [
        "# The result is an iterable\n",
        "for tweet in tweets:\n",
        "  print(tweet.text)\n",
        "\n",
        "# Could also use a list comprehension"
      ],
      "metadata": {
        "id": "kXSPyJh_4yXC",
        "outputId": "c8c442f7-4aa6-42b5-b65e-70d5f72298f2",
        "colab": {
          "base_uri": "https://localhost:8080/"
        }
      },
      "execution_count": null,
      "outputs": [
        {
          "output_type": "stream",
          "name": "stdout",
          "text": [
            "RT @atticrahman: Cometh the Hour. Cometh the Man. \n",
            "\n",
            "#Brexit \n",
            "#Covid \n",
            "#Ukraine \n",
            "#BackBoris https://t.co/rcnIa862bf\n",
            "RT @bluepinksec: #BreakingNews \n",
            "New Linux Vulnerability CVE-2022-0492 Affecting Cgroups\n",
            "#redteam #blueteam #linux #CryptoNews #CVE #cyberat…\n",
            "RT @freedom_element: Today is 724 days since “2 weeks to flatten the curve” was announced.\n",
            "\n",
            "Over 70% of people that have died with #COVID h…\n",
            "@rumbolt_theresa The govt can only regulate federal employees🤦🏻‍♀️would suggest you read the Labour Code &amp; not cher… https://t.co/utQd26MgEv\n",
            "@AngelaTaylor63 @scotgov #England #NoTests #Trumpian #Logic no test no #Covid …. #UKGov #SickMan of #Europe\n",
            "RT @MarkDavis: I love truckers. I loved the Canadian convoy.  I love the idea  of American truckers in a #FreedomConvoy against the remaini…\n",
            "RT @Dragofix: COVID-19 restrictions linked to nearly 750,000 fewer dengue cases in 2020 #health #PublicHealth #COVID #COVID19 #corona #Coro…\n",
            "RT @NinjaJuice10: @AltcoinWorldcom We all can party again thanks to the @BackstageBks and this amazing concept that brings life to event in…\n",
            "RT @NinjaJuice10: @carlo_armilo Let's talk about utility of #crypto in mainstream.\n",
            "I'm really impressed about idea of the @BackstageBks  pr…\n",
            "RT @crownlawnapart: Spring is almost upon us and #London is wide awake why not make us your first stop for visits to the capital a perfect…\n",
            "All #Democrats voted against ending the #Covid state of emergency.  You would figure they are now tired of crises .… https://t.co/XnenvbCIVz\n",
            "RT @HAGnews2: 😱Toxicity of #mRNA vaccines has been consensus since the beginning of their development - the only way to approve them is '#e…\n",
            "RT @cuzito: British man with his #Ukrainian wife  &amp; their kids turned away from Calais by British border force on the day @pritipatel says…\n",
            "RT @Anita_Jacoby: Not many laughs when it comes to #COVID but this one is heavenly. https://t.co/qzFnyniaIR\n",
            "Ivermectin is a Nobel Prize-winning wonder drug.\n",
            "Treatment with Ivermectin Is Associated with Decreased Mortality i… https://t.co/3zObjm1pAQ\n",
            "RT @freedom_element: Today is 723 days since “2 weeks to flatten the curve” was announced.\n",
            "\n",
            "Over 70% of people that have died with #COVID h…\n",
            "Sage advisory group being stood down &amp; will no longer meet to ­discuss Covid #COVIDisAirborne #COVID… https://t.co/ulj517Kp9P\n",
            "Respiratory infections like whooping cough and #flu have plummeted amid #COVID. Because very few of us have had the… https://t.co/vr4mj4ugFW\n",
            "RT @dirflash: Last 24-hour #COVID-19 data from #Colorado:\n",
            "181 new cases\n",
            "384 hospitalizations\n",
            "2 deaths\n",
            "1,323,810 total cases\n",
            "12,051 total de…\n",
            "RT @carolyncchart: .@stevesilberman can you + .@WardQNormal help with retweets? #March 7 is National #COVID Memorial Day; I’ve been helping…\n"
          ]
        }
      ]
    },
    {
      "cell_type": "markdown",
      "metadata": {
        "id": "DXZPE032tLFM"
      },
      "source": [
        "Note that the `tweets` object is actually a Cursor object (contains JSON formatted data). To get the tweets, we use the `text` method.\n",
        "\n",
        "- Notice that there are duplicates. Some of these exist because, by default, we are given retweets.\n",
        "- However, we can filter those out before hand (unless part of your analysis is based on retweets?)"
      ]
    },
    {
      "cell_type": "code",
      "metadata": {
        "id": "tvW_QoY8t_NZ",
        "colab": {
          "base_uri": "https://localhost:8080/"
        },
        "outputId": "e86a28dd-5710-4285-beb4-a38f7466d1e4"
      },
      "source": [
        "# We can add filters to our search words \n",
        "search_with_filter = search_words + \" -filter:retweets\"\n",
        "\n",
        "tweets = tw.Cursor(api.search,\n",
        "                       q=search_with_filter,\n",
        "                       lang=\"en\",\n",
        "                       since=date_since,\n",
        "                       result_type = 'recent').items(20)\n",
        "# Could also specify popular\n",
        "\n",
        "[tweet.text for tweet in tweets]"
      ],
      "execution_count": null,
      "outputs": [
        {
          "output_type": "execute_result",
          "data": {
            "text/plain": [
              "['@rumbolt_theresa The govt can only regulate federal employees🤦🏻\\u200d♀️would suggest you read the Labour Code &amp; not cher… https://t.co/utQd26MgEv',\n",
              " '@AngelaTaylor63 @scotgov #England #NoTests #Trumpian #Logic no test no #Covid …. #UKGov #SickMan of #Europe',\n",
              " 'All #Democrats voted against ending the #Covid state of emergency.  You would figure they are now tired of crises .… https://t.co/XnenvbCIVz',\n",
              " 'Ivermectin is a Nobel Prize-winning wonder drug.\\nTreatment with Ivermectin Is Associated with Decreased Mortality i… https://t.co/3zObjm1pAQ',\n",
              " 'Sage advisory group being stood down &amp; will no longer meet to \\xaddiscuss Covid #COVIDisAirborne #COVID… https://t.co/ulj517Kp9P',\n",
              " 'Respiratory infections like whooping cough and #flu have plummeted amid #COVID. Because very few of us have had the… https://t.co/vr4mj4ugFW',\n",
              " 'Today is 724 days since “2 weeks to flatten the curve” was announced.\\n\\nOver 70% of people that have died with… https://t.co/REObIAr3qg',\n",
              " 'I love truckers. I loved the Canadian convoy.  I love the idea  of American truckers in a #FreedomConvoy against th… https://t.co/1NWdQWn6NL',\n",
              " 'Join us tomorrow w/ Drs. Stella Safo @AmmahStarr @Just_Equity &amp; Virginia Caine @Marion_Health for #HoodMedHealth se… https://t.co/Jx7HVxGxoH',\n",
              " 'Join the fight against COVID19. To learn more visit https://t.co/4Wx4KSiYgr @RIMUHC1  #COVID19  #SARSCoV2… https://t.co/hW6v1Li7P1',\n",
              " 'Last 24-hour #COVID-19 data from #Colorado:\\n181 new cases\\n384 hospitalizations\\n2 deaths\\n1,323,810 total cases\\n12,05… https://t.co/BoXJRkxJko',\n",
              " 'Long #COVID: sustained and multiplied disadvantage … #openaccess … \"The pandemic will be with us for a long time; w… https://t.co/8U86ycZsOo',\n",
              " 'Vaccine refusal is now one of the leading killers of young and middle aged adults in America. Studies now show thes… https://t.co/3Z5mqw4IJh',\n",
              " '@jd_durkin More importantly he might want to check that cough out after infecting the poor camera crew as well 😷 #covid',\n",
              " '@duty2warn @ClaudiaRutherf4 Not to mention the soon to be 1 million #Covid deaths and unkown number of long Covids… https://t.co/Cm1vfKWLx4',\n",
              " 'He only sexily harassed a few women and killed Grand Ma with his #COVID BS whats not to love ? https://t.co/0MtTmaNMsC',\n",
              " 'Full story https://t.co/ThJQbnPbNp \\U0001f7ea\\U0001f7ea#americafirst #biden #conservative #corona #coronavirus #covid #covid19… https://t.co/6QHOSRUAwt',\n",
              " 'CHD Says Pfizer and FDA Dropped Data Bombshell on #COVID #Vaccine Consumers #VaccineSideAffects https://t.co/N5FDREyh0l via @Yahoo',\n",
              " \"'Cheeky' boy, 8, dies three days after testing positive for Covid\\n Contact us on telegram https://t.co/pnLY9HNUxI… https://t.co/d5AyNrdUgN\",\n",
              " '@vidinewsmedia She avoided jail been #grassing we just how she managed to thialand its full #covid #bankcrupt how do they not just pay court']"
            ]
          },
          "metadata": {},
          "execution_count": 13
        }
      ]
    },
    {
      "cell_type": "markdown",
      "metadata": {
        "id": "kEH9A8cvv6z_"
      },
      "source": [
        "There are other ways to refine your search:"
      ]
    },
    {
      "cell_type": "code",
      "metadata": {
        "id": "357AyJs4vbyE",
        "colab": {
          "base_uri": "https://localhost:8080/"
        },
        "outputId": "19e0b723-ca22-4282-be47-555238692c43"
      },
      "source": [
        "# I could search in various ways\n",
        "\n",
        "# Sent before yesterday\n",
        "before_yesterday = \"2021-03-09\"\n",
        "\n",
        "# Contains both here and there\n",
        "multi_search = \"here there\" \n",
        "\n",
        "# Contains here or there (or both)\n",
        "or_search = \"here OR there\"\n",
        "\n",
        "# Contains here but not there\n",
        "not_search = \"here -there\" \n",
        "\n",
        "# Mentions a specific account\n",
        "acct_search = \"@NASA\"\n",
        "\n",
        "# Responds to/ sent from  a specific account\n",
        "resp_acct_search = \"to:NASA\"\n",
        "sent_from_search = \"from:NASA\"\n",
        "\n",
        "# Search by location (you specify these values)\n",
        "# For example, 1 mile from downtown toronto\n",
        "geo_search = \"latitude,longitude,radius\"\n",
        "\n",
        "# I'm restricting just for the sake of output\n",
        "tweets = tw.Cursor(api.search,\n",
        "                       q=sent_from_search,\n",
        "                       lang=\"en\",\n",
        "                       since=date_since).items(10)\n",
        "\n",
        "a = [tweet.text for tweet in tweets]\n",
        "print(*a)"
      ],
      "execution_count": null,
      "outputs": [
        {
          "output_type": "stream",
          "name": "stdout",
          "text": [
            "Destination: Space — with a pit stop in your living room 🛰️\n",
            "\n",
            "View over 30 spacecraft in augmented reality 3D models… https://t.co/7TBo7klLUF ✨ We're looking for bright minds to find their place in space, science and aeronautics as one of our @NASAInterns!… https://t.co/IdmQuNf3hx This week at NASA:\n",
            "\n",
            "GOES-T goes up, Webb mirror alignment continues successfully, and the first work platform moves… https://t.co/BCs8WUBrPL RT @NASA_Technology: We just announced the newest batch of futuristic space tech concepts that could one day become reality! These sci-fi-s… @zacallier One is much closer! They only appear to overlap because of a chance alignment. This alignment gives astr… https://t.co/iohpTopheW @leoalbuq1 Great question! Most lunar samples brought back to Earth by Apollo astronauts have been opened and studi… https://t.co/RLZDJQcW9G Good things come to those who wait.\n",
            "\n",
            "Teams will begin tapping one of the last unopened Moon rock samples acquired d… https://t.co/b9TCU5CtZs @iishmalkhan Yes, our future mission Dragonfly will send an eight-bladed rotorcraft that flies like a drone to Tita… https://t.co/cCOA9adOTG Twin galaxies? Look again 👀\n",
            "\n",
            "From the perspective of our orbiting @NASAHubble telescope, these two galaxies in the… https://t.co/y8dwlAER26\n"
          ]
        }
      ]
    },
    {
      "cell_type": "markdown",
      "metadata": {
        "id": "A_nYcAyexN8x"
      },
      "source": [
        "For other, more advanced search parameters, you can visit the API documentation [here](https://developer.twitter.com/en/docs/twitter-api/v1/rules-and-filtering/search-operators).\n",
        "\n",
        "Additionally, notice that the text method includes more than the tweet itself. You can extract handles and key words using regex. First, let's convert what we have into a pandas DF."
      ]
    },
    {
      "cell_type": "code",
      "metadata": {
        "id": "lrxO1iUbytbR",
        "colab": {
          "base_uri": "https://localhost:8080/"
        },
        "outputId": "838becc5-2e1e-42d2-f509-daa849afd1d3"
      },
      "source": [
        "import pandas as pd\n",
        "\n",
        "# tweet_list = [tweet.text for tweet in tweets]\n",
        "tweet_text = pd.DataFrame(a, columns = ['tweet'])\n",
        "\n",
        "print(tweet_text.head(5))"
      ],
      "execution_count": null,
      "outputs": [
        {
          "output_type": "stream",
          "name": "stdout",
          "text": [
            "                                               tweet\n",
            "0  Destination: Space — with a pit stop in your l...\n",
            "1  ✨ We're looking for bright minds to find their...\n",
            "2  This week at NASA:\\n\\nGOES-T goes up, Webb mir...\n",
            "3  RT @NASA_Technology: We just announced the new...\n",
            "4  @zacallier One is much closer! They only appea...\n"
          ]
        }
      ]
    },
    {
      "cell_type": "code",
      "metadata": {
        "id": "b5hBBQqA2Joo",
        "colab": {
          "base_uri": "https://localhost:8080/"
        },
        "outputId": "6fb30e50-16e0-4a8e-a8ae-4e50c2ce12c6"
      },
      "source": [
        "# Extract handles \n",
        "handle_regex = '@[A-Za-z|0-9]+'\n",
        "\n",
        "tweet_text['handles'] = tweet_text['tweet'].str.findall(handle_regex) \n",
        "print(tweet_text.head(10))\n"
      ],
      "execution_count": null,
      "outputs": [
        {
          "output_type": "stream",
          "name": "stdout",
          "text": [
            "                                               tweet         handles\n",
            "0  Destination: Space — with a pit stop in your l...              []\n",
            "1  ✨ We're looking for bright minds to find their...  [@NASAInterns]\n",
            "2  This week at NASA:\\n\\nGOES-T goes up, Webb mir...              []\n",
            "3  RT @NASA_Technology: We just announced the new...         [@NASA]\n",
            "4  @zacallier One is much closer! They only appea...    [@zacallier]\n",
            "5  @leoalbuq1 Great question! Most lunar samples ...    [@leoalbuq1]\n",
            "6  Good things come to those who wait.\\n\\nTeams w...              []\n",
            "7  @iishmalkhan Yes, our future mission Dragonfly...  [@iishmalkhan]\n",
            "8  Twin galaxies? Look again 👀\\n\\nFrom the perspe...   [@NASAHubble]\n"
          ]
        }
      ]
    },
    {
      "cell_type": "markdown",
      "metadata": {
        "id": "qk5HGpei5q9q"
      },
      "source": [
        "I recommend you read the twitter API documentation before or during your extraction (see link above).\n",
        "\n",
        "<br>\n",
        "\n",
        "<br>\n",
        "\n",
        "# __QUESTIONS__?"
      ]
    }
  ]
}